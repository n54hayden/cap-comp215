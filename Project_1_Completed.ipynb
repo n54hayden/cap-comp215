{
  "nbformat": 4,
  "nbformat_minor": 0,
  "metadata": {
    "colab": {
      "provenance": [],
      "include_colab_link": true
    },
    "kernelspec": {
      "name": "python3",
      "display_name": "Python 3"
    },
    "language_info": {
      "name": "python"
    }
  },
  "cells": [
    {
      "cell_type": "markdown",
      "metadata": {
        "id": "view-in-github",
        "colab_type": "text"
      },
      "source": [
        "<a href=\"https://colab.research.google.com/github/n54hayden/cap-comp215/blob/main/Project_1_Completed.ipynb\" target=\"_parent\"><img src=\"https://colab.research.google.com/assets/colab-badge.svg\" alt=\"Open In Colab\"/></a>"
      ]
    },
    {
      "cell_type": "markdown",
      "source": [
        "## Project 1: Replication of Angry Birds Using a 2D Physics Simulation with Circles\n",
        "Hayden & David\n",
        "\n",
        "\n",
        "Use microsoft visual editor for playing the game, installing pymunk using the terminal.\n",
        "\n",
        "Enter two commands:\n",
        "pip install pymunk\n",
        "\n",
        "Then\n",
        "\n",
        "pip install pygame\n",
        "\n",
        "Credit to \"Tech With Tim\" for inspiration/help with code"
      ],
      "metadata": {
        "id": "Ra4AeBTkxGJF"
      }
    },
    {
      "cell_type": "code",
      "source": [
        "import pygame\n",
        "import pymunk\n",
        "import pymunk.pygame_util\n",
        "import math\n",
        "\"importing modules for creating the game\"\n",
        "pygame.init()\n",
        "\n",
        "WIDTH, HEIGHT = 1250, 800\n",
        "window = pygame.display.set_mode((WIDTH, HEIGHT))\n",
        "\n",
        "collision_occurred = False"
      ],
      "metadata": {
        "colab": {
          "base_uri": "https://localhost:8080/",
          "height": 418
        },
        "id": "vLw-lh339ZIj",
        "outputId": "4091cd73-bbea-4df2-ab19-50a9878dd9a3"
      },
      "execution_count": null,
      "outputs": [
        {
          "output_type": "stream",
          "name": "stdout",
          "text": [
            "pygame 2.5.2 (SDL 2.28.2, Python 3.10.12)\n",
            "Hello from the pygame community. https://www.pygame.org/contribute.html\n"
          ]
        },
        {
          "output_type": "error",
          "ename": "ModuleNotFoundError",
          "evalue": "No module named 'pymunk'",
          "traceback": [
            "\u001b[0;31m---------------------------------------------------------------------------\u001b[0m",
            "\u001b[0;31mModuleNotFoundError\u001b[0m                       Traceback (most recent call last)",
            "\u001b[0;32m<ipython-input-2-c00141908b31>\u001b[0m in \u001b[0;36m<cell line: 2>\u001b[0;34m()\u001b[0m\n\u001b[1;32m      1\u001b[0m \u001b[0;32mimport\u001b[0m \u001b[0mpygame\u001b[0m\u001b[0;34m\u001b[0m\u001b[0;34m\u001b[0m\u001b[0m\n\u001b[0;32m----> 2\u001b[0;31m \u001b[0;32mimport\u001b[0m \u001b[0mpymunk\u001b[0m\u001b[0;34m\u001b[0m\u001b[0;34m\u001b[0m\u001b[0m\n\u001b[0m\u001b[1;32m      3\u001b[0m \u001b[0;32mimport\u001b[0m \u001b[0mpymunk\u001b[0m\u001b[0;34m.\u001b[0m\u001b[0mpygame_util\u001b[0m\u001b[0;34m\u001b[0m\u001b[0;34m\u001b[0m\u001b[0m\n\u001b[1;32m      4\u001b[0m \u001b[0;32mimport\u001b[0m \u001b[0mmath\u001b[0m\u001b[0;34m\u001b[0m\u001b[0;34m\u001b[0m\u001b[0m\n\u001b[1;32m      5\u001b[0m \u001b[0;34m\"importing modules for creating the game\"\u001b[0m\u001b[0;34m\u001b[0m\u001b[0;34m\u001b[0m\u001b[0m\n",
            "\u001b[0;31mModuleNotFoundError\u001b[0m: No module named 'pymunk'",
            "",
            "\u001b[0;31m---------------------------------------------------------------------------\u001b[0;32m\nNOTE: If your import is failing due to a missing package, you can\nmanually install dependencies using either !pip or !apt.\n\nTo view examples of installing some common dependencies, click the\n\"Open Examples\" button below.\n\u001b[0;31m---------------------------------------------------------------------------\u001b[0m\n"
          ],
          "errorDetails": {
            "actions": [
              {
                "action": "open_url",
                "actionText": "Open Examples",
                "url": "/notebooks/snippets/importing_libraries.ipynb"
              }
            ]
          }
        }
      ]
    },
    {
      "cell_type": "markdown",
      "source": [
        "## Main collision and detection of two circles"
      ],
      "metadata": {
        "id": "Uavc0H0k-SGK"
      }
    },
    {
      "cell_type": "code",
      "source": [
        "def calculate_distance(p1, p2):\n",
        "    return math.sqrt((p2[1] - p1[1])**2 + (p2[0] - p1[0])**2)"
      ],
      "metadata": {
        "id": "V1bGEotQyOZq"
      },
      "execution_count": null,
      "outputs": []
    },
    {
      "cell_type": "code",
      "source": [
        "def calculate_angle(p1, p2):\n",
        "    return math.atan2(p2[1] - p1[1], p2[0] - p1[0])"
      ],
      "metadata": {
        "id": "TW4xUa2AyPdn"
      },
      "execution_count": null,
      "outputs": []
    },
    {
      "cell_type": "markdown",
      "source": [
        "# A function to create collision for the circles and the objects"
      ],
      "metadata": {
        "id": "6f4445V0-hjg"
      }
    },
    {
      "cell_type": "code",
      "source": [
        "def collision(arbiter, space, data):\n",
        "    global collision_occurred\n",
        "    shapes = arbiter.shapes\n",
        "    if len(shapes) == 2 and isinstance(shapes[0], pymunk.Circle) and isinstance(shapes[1], pymunk.Circle):\n",
        "        collision_occurred = True\n",
        "    return True"
      ],
      "metadata": {
        "id": "ROFEFyAgyP43"
      },
      "execution_count": null,
      "outputs": []
    },
    {
      "cell_type": "markdown",
      "source": [
        "# Draws a line for the trajectory of the red ball"
      ],
      "metadata": {
        "id": "XGAFbSYh-onH"
      }
    },
    {
      "cell_type": "code",
      "source": [
        "def draw(space, window, draw_options, line):\n",
        "    window.fill(\"white\")\n",
        "\n",
        "    if line:\n",
        "        pygame.draw.line(window, \"brown\", line[0], line[1], 3)\n",
        "\n",
        "    space.debug_draw(draw_options)\n",
        "\n",
        "    pygame.display.update()"
      ],
      "metadata": {
        "id": "v4DMnP3AyQZu"
      },
      "execution_count": null,
      "outputs": []
    },
    {
      "cell_type": "markdown",
      "source": [
        "# Creates boundaries for the game"
      ],
      "metadata": {
        "id": "sj2EdRhH-v7y"
      }
    },
    {
      "cell_type": "code",
      "source": [
        "def create_boundaries(space, width, height):\n",
        "    rects = [\n",
        "        [(width/2, height - 10), (width, 20)],\n",
        "        [(width/2, 10), (width, 20)],\n",
        "        [(10, height/2), (20, height)],\n",
        "        [(width - 10, height/2), (20, height)],\n",
        "    ]\n",
        "\n",
        "    for pos, size in rects:\n",
        "        body = pymunk.Body(body_type=pymunk.Body.STATIC)\n",
        "        body.position = pos\n",
        "        shape = pymunk.Poly.create_box(body, size)\n",
        "        shape.elasticity = 0.4\n",
        "        shape.friction = 0.5\n",
        "        space.add(body, shape)"
      ],
      "metadata": {
        "id": "_TrV15eNygcy"
      },
      "execution_count": null,
      "outputs": []
    },
    {
      "cell_type": "markdown",
      "source": [
        "# The structures are created, 2 floor of a structure"
      ],
      "metadata": {
        "id": "U_yf5zM4-41R"
      }
    },
    {
      "cell_type": "code",
      "source": [
        "def create_structure(space, width, height):\n",
        "    BROWN = (139, 69, 19, 100)\n",
        "    rects = [\n",
        "        [(600, height - 120), (40, 200), BROWN, 100],\n",
        "        [(900, height - 120), (40, 200), BROWN, 100],\n",
        "        [(750, height - 240), (340, 40), BROWN, 150],\n",
        "\n",
        "        [(900, height - 360), (40, 200), BROWN, 100],\n",
        "        [(600, height - 360), (40, 200), BROWN, 100],\n",
        "        [(750, height - 480), (340, 40), BROWN, 150],\n",
        "    ]\n",
        "\"syntax for creating an object with its own gravity, elasticity, and friction, more elasticity will be harder to move\"\n",
        "    for pos, size, color, mass in rects:\n",
        "        body = pymunk.Body()\n",
        "        body.position = pos\n",
        "        shape = pymunk.Poly.create_box(body, size, radius=1)\n",
        "        shape.color = color\n",
        "        shape.mass = 25\n",
        "        shape.elasticity = 0.4\n",
        "        shape.friction = 0.4\n",
        "        space.add(body, shape)"
      ],
      "metadata": {
        "colab": {
          "base_uri": "https://localhost:8080/",
          "height": 106
        },
        "id": "nCFpxBoW8xAg",
        "outputId": "348d8e19-20dd-4fea-dc03-4deaf1a59e5d"
      },
      "execution_count": null,
      "outputs": [
        {
          "output_type": "error",
          "ename": "IndentationError",
          "evalue": "unexpected indent (<ipython-input-8-f2b68788b002>, line 13)",
          "traceback": [
            "\u001b[0;36m  File \u001b[0;32m\"<ipython-input-8-f2b68788b002>\"\u001b[0;36m, line \u001b[0;32m13\u001b[0m\n\u001b[0;31m    for pos, size, color, mass in rects:\u001b[0m\n\u001b[0m    ^\u001b[0m\n\u001b[0;31mIndentationError\u001b[0m\u001b[0;31m:\u001b[0m unexpected indent\n"
          ]
        }
      ]
    },
    {
      "cell_type": "markdown",
      "source": [
        "# Creates slingshot for the beginning of the game"
      ],
      "metadata": {
        "id": "i9t5s20X_L9U"
      }
    },
    {
      "cell_type": "code",
      "source": [
        "def create_slingshot(space, width, height):\n",
        "    BROWN = (139, 69, 19, 100)\n",
        "    rect = [\n",
        "        [(150, height - 95), (15, 150), BROWN, 100],\n",
        "    ]\n",
        "\"this is the same syntax for creating the object\"\n",
        "    for pos, size, color, mass in rect:\n",
        "        body = pymunk.Body(body_type=pymunk.Body.STATIC)\n",
        "        body.position = pos\n",
        "        shape = pymunk.Poly.create_box(body, size, radius=1)\n",
        "        shape.color = color\n",
        "        shape.mass = 2500\n",
        "        shape.elasticity = 0.4\n",
        "        shape.friction = 0.4\n",
        "        space.add(body, shape)"
      ],
      "metadata": {
        "id": "XrN4xT_m8xZI"
      },
      "execution_count": null,
      "outputs": []
    },
    {
      "cell_type": "markdown",
      "source": [
        "# Create a Red Ball"
      ],
      "metadata": {
        "id": "gsvUy4Zu_exJ"
      }
    },
    {
      "cell_type": "code",
      "source": [
        "def create_ball(space, radius, mass, pos):\n",
        "    body = pymunk.Body(body_type=pymunk.Body.STATIC)\n",
        "    body.position = pos\n",
        "    shape = pymunk.Circle(body, radius)\n",
        "    shape.mass = mass\n",
        "    shape.elasticity = 0.9\n",
        "    shape.friction = 0.4\n",
        "    shape.color = (255, 0, 0, 100)\n",
        "    space.add(body, shape)\n",
        "    return shape"
      ],
      "metadata": {
        "id": "52qm0ByG8xhz"
      },
      "execution_count": null,
      "outputs": []
    },
    {
      "cell_type": "markdown",
      "source": [
        "# Creates a pig, the circle in green"
      ],
      "metadata": {
        "id": "w9y6Ayoc_j94"
      }
    },
    {
      "cell_type": "code",
      "source": [
        "def create_pig(space, radius, mass):\n",
        "    body = pymunk.Body()\n",
        "    body.position = 700, 750\n",
        "    shape = pymunk.Circle(body, 40)\n",
        "    shape.mass = 10\n",
        "    shape.elasticity = 0.9\n",
        "    shape.friction = 0.4\n",
        "    shape.color = (0, 128, 0, 100)\n",
        "    space.add(body, shape)\n",
        "    return shape"
      ],
      "metadata": {
        "id": "NbjJBf0q8xrT"
      },
      "execution_count": null,
      "outputs": []
    },
    {
      "cell_type": "markdown",
      "source": [
        "# Second Pig created with the same properties"
      ],
      "metadata": {
        "id": "mN6-XA_x_now"
      }
    },
    {
      "cell_type": "code",
      "source": [
        "def create_second_pig(space,radius,mass):\n",
        "    body = pymunk.Body()\n",
        "    body.position = 700, 500\n",
        "    shape = pymunk.Circle(body, 40)\n",
        "    shape.mass = 10\n",
        "    shape.elasticity = 0.9\n",
        "    shape.friction = 0.4\n",
        "    shape.color = (0, 128, 0, 100)\n",
        "    space.add(body, shape)\n",
        "    return shape"
      ],
      "metadata": {
        "id": "HJVSlS1R8x2y"
      },
      "execution_count": null,
      "outputs": []
    },
    {
      "cell_type": "markdown",
      "source": [
        "# Add collision detection.\n",
        "\n",
        "initializes all game objects and functions, if the ball collides with any of the pigs, the game finishes and closes on its own."
      ],
      "metadata": {
        "id": "Nd9AkVgv_uYh"
      }
    },
    {
      "cell_type": "code",
      "source": [
        "def run(window, width, height):\n",
        "    global collision_occurred\n",
        "    run = True\n",
        "    clock = pygame.time.Clock()\n",
        "    fps = 60\n",
        "    dt = 1 / fps\n",
        "\n",
        "    space = pymunk.Space()\n",
        "    space.gravity =(0, 981)\n",
        "\n",
        "    handler = space.add_default_collision_handler()\n",
        "    handler.separate = collision\n",
        "\n",
        "    create_boundaries(space, width, height)\n",
        "    create_structure(space, width, height)\n",
        "    create_pig(space, width, height)\n",
        "    create_slingshot(space, width, height)\n",
        "    create_second_pig(space,width,height)\n",
        "\n",
        "    pressed_pos = None\n",
        "    ball = None\n",
        "\n",
        "    draw_options = pymunk.pygame_util.DrawOptions(window)\n",
        "\n",
        "    while run:\n",
        "        line = None\n",
        "        if ball and pressed_pos:\n",
        "            line = [(150, 600), pygame.mouse.get_pos()]\n",
        "\n",
        "        for event in pygame.event.get():\n",
        "            if event.type == pygame.QUIT:\n",
        "                run = False\n",
        "                break\n",
        "\n",
        "            if event.type == pygame.MOUSEBUTTONDOWN:\n",
        "                if not ball:\n",
        "                    pressed_pos = pygame.mouse.get_pos()\n",
        "                    ball = create_ball(space, 30, 10, (150, 600))\n",
        "                elif pressed_pos:\n",
        "                    ball.body.body_type = pymunk.Body.DYNAMIC\n",
        "                    angle = calculate_angle(*line)\n",
        "                    force = calculate_distance(*line) * 50\n",
        "                    fx = math.cos(angle) * force\n",
        "                    fy = math.sin(angle) *force\n",
        "                    ball.body.apply_impulse_at_local_point((-fx, -fy), (0, 0))\n",
        "                    pressed_pos = None\n",
        "                else:\n",
        "                    space.remove(ball, ball.body)\n",
        "                    ball = None\n",
        "\n",
        "        draw(space, window, draw_options, line)\n",
        "        space.step(dt)\n",
        "\n",
        "        if collision_occurred:\n",
        "            run = False\n",
        "\n",
        "        clock.tick(fps)\n",
        "\n",
        "    pygame.quit()\n",
        "\n",
        "if __name__ == \"__main__\":\n",
        "    run(window, WIDTH, HEIGHT)"
      ],
      "metadata": {
        "id": "J49lTmvN9NIB"
      },
      "execution_count": null,
      "outputs": []
    },
    {
      "cell_type": "markdown",
      "source": [
        "Under is the full code text for convenience, please copy and paste the code into microsoft visual code while pymunk and pygame is installed"
      ],
      "metadata": {
        "id": "iE7cWEHJ-CQG"
      }
    },
    {
      "cell_type": "code",
      "execution_count": null,
      "metadata": {
        "id": "rNYj1nYWSnfn"
      },
      "outputs": [],
      "source": [
        "import pygame\n",
        "import pymunk\n",
        "import pymunk.pygame_util\n",
        "import math\n",
        "\"importing modules for creating the game\"\n",
        "pygame.init()\n",
        "\n",
        "WIDTH, HEIGHT = 1250, 800\n",
        "window = pygame.display.set_mode((WIDTH, HEIGHT))\n",
        "\n",
        "collision_occurred = False\n",
        "\n",
        "def calculate_distance(p1, p2):\n",
        "    return math.sqrt((p2[1] - p1[1])**2 + (p2[0] - p1[0])**2)\n",
        "\n",
        "def calculate_angle(p1, p2):\n",
        "    return math.atan2(p2[1] - p1[1], p2[0] - p1[0])\n",
        "\n",
        "def collision(arbiter, space, data):\n",
        "    global collision_occurred\n",
        "    shapes = arbiter.shapes\n",
        "    if len(shapes) == 2 and isinstance(shapes[0], pymunk.Circle) and isinstance(shapes[1], pymunk.Circle):\n",
        "        collision_occurred = True\n",
        "    return True\n",
        "\n",
        "def draw(space, window, draw_options, line):\n",
        "    window.fill(\"white\")\n",
        "\n",
        "    if line:\n",
        "        pygame.draw.line(window, \"brown\", line[0], line[1], 3)\n",
        "\n",
        "    space.debug_draw(draw_options)\n",
        "\n",
        "    pygame.display.update()\n",
        "\n",
        "def create_boundaries(space, width, height):\n",
        "    rects = [\n",
        "        [(width/2, height - 10), (width, 20)],\n",
        "        [(width/2, 10), (width, 20)],\n",
        "        [(10, height/2), (20, height)],\n",
        "        [(width - 10, height/2), (20, height)],\n",
        "    ]\n",
        "\n",
        "    for pos, size in rects:\n",
        "        body = pymunk.Body(body_type=pymunk.Body.STATIC)\n",
        "        body.position = pos\n",
        "        shape = pymunk.Poly.create_box(body, size)\n",
        "        shape.elasticity = 0.4\n",
        "        shape.friction = 0.5\n",
        "        space.add(body, shape)\n",
        "\n",
        "def create_structure(space, width, height):\n",
        "    BROWN = (139, 69, 19, 100)\n",
        "    rects = [\n",
        "        [(600, height - 120), (40, 200), BROWN, 100],\n",
        "        [(900, height - 120), (40, 200), BROWN, 100],\n",
        "        [(750, height - 240), (340, 40), BROWN, 150],\n",
        "\n",
        "        [(900, height - 360), (40, 200), BROWN, 100],\n",
        "        [(600, height - 360), (40, 200), BROWN, 100],\n",
        "        [(750, height - 480), (340, 40), BROWN, 150],\n",
        "    ]\n",
        "\n",
        "    for pos, size, color, mass in rects:\n",
        "        body = pymunk.Body()\n",
        "        body.position = pos\n",
        "        shape = pymunk.Poly.create_box(body, size, radius=1)\n",
        "        shape.color = color\n",
        "        shape.mass = 25\n",
        "        shape.elasticity = 0.4\n",
        "        shape.friction = 0.4\n",
        "        space.add(body, shape)\n",
        "\n",
        "def create_slingshot(space, width, height):\n",
        "    BROWN = (139, 69, 19, 100)\n",
        "    rect = [\n",
        "        [(150, height - 95), (15, 150), BROWN, 100],\n",
        "    ]\n",
        "\n",
        "    for pos, size, color, mass in rect:\n",
        "        body = pymunk.Body(body_type=pymunk.Body.STATIC)\n",
        "        body.position = pos\n",
        "        shape = pymunk.Poly.create_box(body, size, radius=1)\n",
        "        shape.color = color\n",
        "        shape.mass = 2500\n",
        "        shape.elasticity = 0.4\n",
        "        shape.friction = 0.4\n",
        "        space.add(body, shape)\n",
        "\n",
        "def create_ball(space, radius, mass, pos):\n",
        "    body = pymunk.Body(body_type=pymunk.Body.STATIC)\n",
        "    body.position = pos\n",
        "    shape = pymunk.Circle(body, radius)\n",
        "    shape.mass = mass\n",
        "    shape.elasticity = 0.9\n",
        "    shape.friction = 0.4\n",
        "    shape.color = (255, 0, 0, 100)\n",
        "    space.add(body, shape)\n",
        "    return shape\n",
        "\n",
        "def create_pig(space, radius, mass):\n",
        "    body = pymunk.Body()\n",
        "    body.position = 700, 750\n",
        "    shape = pymunk.Circle(body, 40)\n",
        "    shape.mass = 10\n",
        "    shape.elasticity = 0.9\n",
        "    shape.friction = 0.4\n",
        "    shape.color = (0, 128, 0, 100)\n",
        "    space.add(body, shape)\n",
        "    return shape\n",
        "\n",
        "def create_second_pig(space,radius,mass):\n",
        "    body = pymunk.Body()\n",
        "    body.position = 700, 500\n",
        "    shape = pymunk.Circle(body, 40)\n",
        "    shape.mass = 10\n",
        "    shape.elasticity = 0.9\n",
        "    shape.friction = 0.4\n",
        "    shape.color = (0, 128, 0, 100)\n",
        "    space.add(body, shape)\n",
        "    return shape\n",
        "\n",
        "\n",
        "def run(window, width, height):\n",
        "    global collision_occurred\n",
        "    run = True\n",
        "    clock = pygame.time.Clock()\n",
        "    fps = 60\n",
        "    dt = 1 / fps\n",
        "\n",
        "    space = pymunk.Space()\n",
        "    space.gravity =(0, 981)\n",
        "\n",
        "    handler = space.add_default_collision_handler()\n",
        "    handler.separate = collision\n",
        "\n",
        "    create_boundaries(space, width, height)\n",
        "    create_structure(space, width, height)\n",
        "    create_pig(space, width, height)\n",
        "    create_slingshot(space, width, height)\n",
        "    create_second_pig(space,width,height)\n",
        "\n",
        "    pressed_pos = None\n",
        "    ball = None\n",
        "\n",
        "    draw_options = pymunk.pygame_util.DrawOptions(window)\n",
        "\n",
        "    while run:\n",
        "        line = None\n",
        "        if ball and pressed_pos:\n",
        "            line = [(150, 600), pygame.mouse.get_pos()]\n",
        "\n",
        "        for event in pygame.event.get():\n",
        "            if event.type == pygame.QUIT:\n",
        "                run = False\n",
        "                break\n",
        "\n",
        "            if event.type == pygame.MOUSEBUTTONDOWN:\n",
        "                if not ball:\n",
        "                    pressed_pos = pygame.mouse.get_pos()\n",
        "                    ball = create_ball(space, 30, 10, (150, 600))\n",
        "                elif pressed_pos:\n",
        "                    ball.body.body_type = pymunk.Body.DYNAMIC\n",
        "                    angle = calculate_angle(*line)\n",
        "                    force = calculate_distance(*line) * 50\n",
        "                    fx = math.cos(angle) * force\n",
        "                    fy = math.sin(angle) *force\n",
        "                    ball.body.apply_impulse_at_local_point((-fx, -fy), (0, 0))\n",
        "                    pressed_pos = None\n",
        "                else:\n",
        "                    space.remove(ball, ball.body)\n",
        "                    ball = None\n",
        "\n",
        "        draw(space, window, draw_options, line)\n",
        "        space.step(dt)\n",
        "\n",
        "        if collision_occurred:\n",
        "            run = False\n",
        "\n",
        "        clock.tick(fps)\n",
        "\n",
        "    pygame.quit()\n",
        "\n",
        "if __name__ == \"__main__\":\n",
        "    run(window, WIDTH, HEIGHT)"
      ]
    }
  ]
}